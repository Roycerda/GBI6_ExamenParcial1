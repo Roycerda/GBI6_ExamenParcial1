{
 "cells": [
  {
   "cell_type": "markdown",
   "metadata": {},
   "source": [
    "<img src=\"https://www.ikiam.edu.ec/img/logo-ikiam-grey.png\" width=300 height=240 />\n",
    "\n",
    "# EXAMEN PARCIAL 1\n",
    "\n",
    "## GBI6-2021II: BIOINFORMÁTICA\n",
    "\n",
    "**Cerda Simbaña Guillermo Roy** \n",
    "\n",
    "**11-01-2021**"
   ]
  },
  {
   "cell_type": "markdown",
   "metadata": {},
   "source": [
    "<font color='red'>NO AGREGUE NUEVAS CELDAS, UTILICE ÚNICAMENTE LAS QUE ESTÁN CREADAS</font>"
   ]
  },
  {
   "cell_type": "markdown",
   "metadata": {},
   "source": [
    "# 1. UNIX\n",
    "\n",
    "## Ejercicio 1\n",
    "Para esta pregunta debe realizar previamente lo siguiente: \n",
    "\n",
    "Imprimir el directorio de trabajo actual \n",
    "\n",
    "Crear un directorio test1\n",
    "\n",
    "No cambie de directorio, pero los items 4, 5 y 6 deben guardarse en el directorio creado en el paso 2. \n",
    "\n",
    "Crear el archivo test1.txt\n",
    "\n",
    "Guardar el texto Hola GBI6 en un archivo test2.txt\n",
    "\n",
    "Guardar la instrucción print(\"Hola GBI6\")  en el archivo test1.py\n",
    "\n",
    "Luego seleccione la instrucción que copie test2.txt al directorio test2/subtest1 y después borre el directorio test1.\n",
    "\n",
    "<img src=\"data/actividad1.jpg\" width=600 height=450 />\n",
    "\n",
    "\n",
    "## Ejercicio 2\n",
    "Imprimir el directorio de trabajo actual \n",
    "\n",
    "Crear un directorio test1\n",
    "\n",
    "No cambie de directorio, pero los items 4, 5 y 6 deben guardarse en el directorio creado en el paso 2. \n",
    "\n",
    "Crear el archivo test1.txt\n",
    "\n",
    "Guardar el texto Hola GBI6 en un archivo test2.txt\n",
    "\n",
    "Guardar la instrucción print(\"Hola GBI6\")  en el archivo test1.py\n",
    "\n",
    "Luego seleccione la instrucción que imprima el número de caracteres de test2.txt\n",
    "\n",
    "<img src=\"data/actividad2.jpg\" width=600 height=450 />\n",
    "\n",
    "\n",
    "\n",
    "## Ejercicio 3\n",
    "Imprimir el directorio de trabajo actual \n",
    "\n",
    "Crear un directorio test1\n",
    "\n",
    "No cambie de directorio, pero los items 4, 5 y 6 deben guardarse en el directorio creado en el paso 2. \n",
    "\n",
    "Crear el archivo test1.txt\n",
    "\n",
    "Guardar el texto Hola GBI6 en un archivo test2.txt\n",
    "\n",
    "Guardar la instrucción print(\"Hola GBI6\")  en el archivo test1.py\n",
    "\n",
    "Luego seleccione la instrucción que enlista los archivos del directorio test1 y luego borra test1.py del directorio test1\n",
    "\n",
    "<img src=\"data/actividad3.jpg\" width=600 height=450 />\n",
    "\n",
    "\n",
    "## Ejercicio 4\n",
    "Resuelva el ejercicio 1.10.3 Plant–Pollinator Networks. \n",
    "\n",
    "Resuelva el ejercicio en un documento de nombre ejercicio_1103.sh\n",
    "\n",
    "Cargue el documento ejercicio_1103.sh en GitHub utilizando git push. \n",
    "\n",
    "Realice el video explicativo de la resolución ejercicio y guarde en YouTube en formato \"Público\" o \"Unlisted\", y pegue el enlace en el cuaderno de Jupyter.\n",
    "\n",
    "La respuesta a este ejercicio es el enlace en GitHub de su archivo ejercicio_1103.sh \n"
   ]
  },
  {
   "cell_type": "code",
   "execution_count": 2,
   "metadata": {},
   "outputs": [
    {
     "data": {
      "text/html": [
       "<iframe width=\"560\" height=\"315\" src=\"https://www.youtube.com/embed/CSAJQeQQfOw?start=3\" title=\"YouTube video player\" frameborder=\"0\" allow=\"accelerometer; autoplay; clipboard-write; encrypted-media; gyroscope; picture-in-picture\" allowfullscreen></iframe>"
      ],
      "text/plain": [
       "<IPython.core.display.HTML object>"
      ]
     },
     "execution_count": 2,
     "metadata": {},
     "output_type": "execute_result"
    }
   ],
   "source": [
    "# Coloque aquí su video del ejercicio 4\n",
    "from IPython.display import HTML\n",
    "HTML('<iframe width=\"560\" height=\"315\" src=\"https://www.youtube.com/embed/CSAJQeQQfOw?start=3\" title=\"YouTube video player\" frameborder=\"0\" allow=\"accelerometer; autoplay; clipboard-write; encrypted-media; gyroscope; picture-in-picture\" allowfullscreen></iframe>')\n"
   ]
  },
  {
   "cell_type": "markdown",
   "metadata": {},
   "source": [
    "\n",
    "\n",
    "## Ejercicio 5\n",
    "Resuelva el ejercicio 1.10.4 Data Explorer. \n",
    "\n",
    "Resuelva el ejercicio en un documento de nombre ejercicio_1104.sh\n",
    "\n",
    "Cargue el documento ejercicio_1104.sh en GitHub utilizando git push.\n",
    "\n",
    "Realice el video explicativo de la resolución ejercicio y guarde en YouTube en formato \"Público\" o \"Unlisted\", y pegue el enlace en el cuaderno de Jupyter.\n",
    "\n",
    "La respuesta a este ejercicio es el enlace en GitHub de su archivo: ejercicio_1104.sh \n"
   ]
  },
  {
   "cell_type": "code",
   "execution_count": 3,
   "metadata": {},
   "outputs": [
    {
     "data": {
      "text/html": [
       "<iframe width=\"560\" height=\"315\" src=\"https://www.youtube.com/embed/mDpmVbf1Dy0\" title=\"YouTube video player\" frameborder=\"0\" allow=\"accelerometer; autoplay; clipboard-write; encrypted-media; gyroscope; picture-in-picture\" allowfullscreen></iframe>"
      ],
      "text/plain": [
       "<IPython.core.display.HTML object>"
      ]
     },
     "execution_count": 3,
     "metadata": {},
     "output_type": "execute_result"
    }
   ],
   "source": [
    "# Coloque aquí su video del ejercicio 5\n",
    "from IPython.display import HTML\n",
    "HTML('<iframe width=\"560\" height=\"315\" src=\"https://www.youtube.com/embed/mDpmVbf1Dy0\" title=\"YouTube video player\" frameborder=\"0\" allow=\"accelerometer; autoplay; clipboard-write; encrypted-media; gyroscope; picture-in-picture\" allowfullscreen></iframe>')\n"
   ]
  },
  {
   "cell_type": "markdown",
   "metadata": {
    "jp-MarkdownHeadingCollapsed": true,
    "tags": []
   },
   "source": [
    "\n",
    "\n",
    "# 2. CONTROL DE LA VERSIÓN\n",
    "## Pregunta 6\n",
    "1. Cree en GitHub un repositorio de nombre ```GBI6_ExamenParcial1```. \n",
    "2. Cree un archivo ```Readme.md``` que debe tener lo siguiente: \n",
    "- Datos personales\n",
    "- Características del computador\n",
    "- Programas utilizados\n",
    "- Explicación de la data utilizada\n",
    "\n",
    "\n",
    "## Pregunta 7\n",
    "1. Cada vez que resuelva un ejercicio (del 1 al 10), utilizando Git Bash, GitHub Desktop o Atom realice un *git push* con el mensaje: \n",
    "\n",
    "\n",
    "<font color='red'>Apellido Nombre ha resuelto el ejercicio 1</font> % Cambie con sus apellidos y nombres; y con el número de ejercicio que corresponda \n",
    "\n",
    "2. Coloque aquí las capturas de pantalla para cada git push realizado desde Git Bash, GitHub Desktop o Atom. \n",
    "\n",
    "- Control de versión ejercicio 1\n",
    "\n",
    "<img src=\"data/ejercicio1.jpg\" width=600 height=450 />\n",
    "\n",
    "- Control de versión ejercicio 2\n",
    "\n",
    "<img src=\"data/ejemplo2.jpg\" width=600 height=450 />\n",
    "\n",
    "- Control de versión ejercicio 3\n",
    "\n",
    "<img src=\"data/ejemplo3.jpg\" width=600 height=450 />\n",
    "\n",
    "- Control de versión ejercicio 4\n",
    "\n",
    "<img src=\"data/ejemplo4\" width=600 height=450 />\n",
    "\n",
    "- Control de versión ejercicio 5\n",
    "\n",
    "<img src=\"data/ejemplo5\" width=600 height=450 />\n",
    "\n",
    "- Control de versión ejercicio 8\n",
    "\n",
    "<img src=\"data/ejemplo_unix.jpg\" width=600 height=450 />\n",
    "\n",
    "- Control de versión ejercicio 9\n",
    "\n",
    "<img src=\"data/ejemplo_unix.jpg\" width=600 height=450 />\n",
    "\n",
    "- Control de versión ejercicio 10\n",
    "\n",
    "<img src=\"data/ejemplo_unix.jpg\" width=600 height=450 />\n",
    "\n",
    "\n",
    "3. Cree un directorio de nombre ```data``` donde deben estar guardados: (i) la data utilizada y (ii) las capturas de pantalla de los ejercicios 1 al 3 y los git push del ejercicio 1 al 10 (en total debe tener 13 imágenes). \n",
    "4. Inserte aquí el enlace de su repositorio (válido para el ejercicio 6 y 7): [GitHub Repository: GBI6_ExamenParcial1](https://github.com/gualapuromoises/2021_gbi6.git) (este enlace es de ejemplo)"
   ]
  },
  {
   "cell_type": "markdown",
   "metadata": {},
   "source": [
    "# 3. INTRODUCCIÓN A PYTHON\n",
    "\n",
    "## Ejercicio 8\n",
    "\n",
    "Para este ejercicio tiene que crear previamente lo siguiente: \n",
    "\n",
    "Una lista de nombre lista1 que tenga a las 10 primeras letras del alfabeto.\n",
    "\n",
    "Relaciones los códigos y las respuestas que salen al ejecutar. "
   ]
  },
  {
   "cell_type": "code",
   "execution_count": 5,
   "metadata": {},
   "outputs": [
    {
     "name": "stdout",
     "output_type": "stream",
     "text": [
      "['c', 'd', 'e']\n",
      "None\n",
      "11\n",
      "None\n",
      "ikiam\n",
      "d\n"
     ]
    }
   ],
   "source": [
    "# Escriba aquí el código\n",
    "lista1 = [\"a\", \"b\", \"c\", \"d\", \"e\", \"f\", \"g\", \"h\", \"i\", \"J\"]\n",
    "\n",
    "print(lista1[2:5])\n",
    "\n",
    "print(lista1.append([\"gbi6\", \"bio1\", \"ikiam\"]))\n",
    "print(len(lista1))\n",
    "      \n",
    "print(lista1.append([\"gbi6\", \"bio1\", \"ikiam\"]))\n",
    "print(lista1[-1][-1])\n",
    "\n",
    "print(lista1[3])\n"
   ]
  },
  {
   "cell_type": "markdown",
   "metadata": {},
   "source": [
    "## Ejercicio 9\n",
    "\n",
    "ara este ejercicio tiene que crear previamente lo siguiente: \n",
    "\n",
    "En la data https://github.com/sap0408/mtcars/blob/master/mtcars.csv, seleccione los 10 primeros registros y cree una lista de nombre lista1.\n",
    "\n",
    "Relaciones los códigos y las respuestas que salen al ejecutar. "
   ]
  },
  {
   "cell_type": "code",
   "execution_count": 6,
   "metadata": {},
   "outputs": [
    {
     "name": "stdout",
     "output_type": "stream",
     "text": [
      "None\n",
      "11\n",
      "None\n",
      "gbi6\n",
      "Hornet Sportabout\n",
      "Hornet 4 Drive\n",
      "['Datsun 710', 'Hornet 4 Drive', 'Hornet Sportabout']\n"
     ]
    }
   ],
   "source": [
    "# Escriba aquí el código\n",
    "lista1 = [\"Mazda RX4\", \"Mazda RX4 Wag\", \"Datsun 710\", \"Hornet 4 Drive\", \"Hornet Sportabout\", \"Valiant\", \"Duster 360\", \"Merc 240D\", \"Merc 230\", \"Merc 280\"]\n",
    "\n",
    "print(lista1.append([\"gbi6\", \"bio1\", \"ikiam\"]))\n",
    "print(len(lista1))\n",
    "\n",
    "print(lista1.append([\"gbi6\", \"bio1\", \"ikiam\"]))\n",
    "print(lista1[-1][-3])\n",
    "\n",
    "print(lista1[4])\n",
    "\n",
    "print(lista1[3])\n",
    "\n",
    "print(lista1[2:5])"
   ]
  },
  {
   "cell_type": "markdown",
   "metadata": {},
   "source": [
    "## Ejercicio 10\n",
    "\n",
    "ara este ejercicio debe debe realizar lo siguiente:\n",
    "\n",
    "Crear un diccionario de nombre dic_aminoacidos, donde se tenga la información de la tabla que se encuentra en \n",
    "http://www.russelllab.org/aas/aas.html. \n",
    "\n",
    "Utilice como \"key\" los valores de la columna \"AA\" y las columnas \"Hits\" y \"%Abundance\" como \"values\". \n",
    "\n",
    "Luego de crear el diccionario, extraiga los valores de \"key\" a una lista de nombre \"aminoacidos\"\n",
    "\n",
    "Extraiga los valores de \"value\" a una lista de nombre \"propiedades\"\n",
    "\n",
    "Para evaluar esta pregunta realice un git push del Jupyter Notebook al repositorio del examen. "
   ]
  },
  {
   "cell_type": "code",
   "execution_count": 15,
   "metadata": {},
   "outputs": [
    {
     "name": "stdout",
     "output_type": "stream",
     "text": [
      "{'Trp': '1550 , 1.34', 'Cys': '1905 , 1.76', 'His': '1695, 2.26', 'Arg': '3093 , 5.20', 'Met': '1102 , 2.32', 'Tyr': '1525 , 3.25', 'Gln': '1830 , 3.96', 'Phe': '1616 , 4.12', 'Asp': '1691 , 5.12', 'Pro': '1598 , 5.00', 'Ala': '2018 , 7.34', 'Asn': '1103 , 4.57', 'Lys': '1366 , 5.81', 'Glu': '1471, 6.22', 'Gly': '1386, 6.89', 'Thr': '1147 , 5.85', 'Val': '1225 , 6.48', 'Ile': '1033 , 5.76', 'Ser': '1206 , 7.38', 'Leu': '1127 , 9.36'} \n",
      "\n",
      "dict_keys(['Trp', 'Cys', 'His', 'Arg', 'Met', 'Tyr', 'Gln', 'Phe', 'Asp', 'Pro', 'Ala', 'Asn', 'Lys', 'Glu', 'Gly', 'Thr', 'Val', 'Ile', 'Ser', 'Leu']) \n",
      "\n",
      "dict_values(['1550 , 1.34', '1905 , 1.76', '1695, 2.26', '3093 , 5.20', '1102 , 2.32', '1525 , 3.25', '1830 , 3.96', '1616 , 4.12', '1691 , 5.12', '1598 , 5.00', '2018 , 7.34', '1103 , 4.57', '1366 , 5.81', '1471, 6.22', '1386, 6.89', '1147 , 5.85', '1225 , 6.48', '1033 , 5.76', '1206 , 7.38', '1127 , 9.36'])\n"
     ]
    }
   ],
   "source": [
    "# Escriba aquí el código\n",
    "dic_aminoacidos = dict(Trp=\"1550 , 1.34\" ,Cys=\"1905 , 1.76\" ,His= \"1695, 2.26\" ,Arg=\"3093 , 5.20\" ,Met=\"1102 , 2.32\" ,Tyr=\"1525 , 3.25\" ,Gln=\"1830 , 3.96\" ,Phe=\"1616 , 4.12\" ,Asp=\"1691 , 5.12\" ,Pro=\"1598 , 5.00\" ,Ala=\"2018 , 7.34\" ,Asn=\"1103 , 4.57\" ,Lys=\"1366 , 5.81\" ,Glu=\"1471, 6.22\" ,Gly=\"1386, 6.89\" ,Thr=\"1147 , 5.85\" ,Val=\"1225 , 6.48\" ,Ile=\"1033 , 5.76\" ,Ser=\"1206 , 7.38\" ,Leu=\"1127 , 9.36\")\n",
    "print(dic_aminoacidos, \"\\n\")\n",
    "aminoacidos=dic_aminoacidos.keys()\n",
    "print(aminoacidos,  \"\\n\")\n",
    "propiedades=dic_aminoacidos.values()\n",
    "print(propiedades)"
   ]
  }
 ],
 "metadata": {
  "kernelspec": {
   "display_name": "Python 3 (ipykernel)",
   "language": "python",
   "name": "python3"
  },
  "language_info": {
   "codemirror_mode": {
    "name": "ipython",
    "version": 3
   },
   "file_extension": ".py",
   "mimetype": "text/x-python",
   "name": "python",
   "nbconvert_exporter": "python",
   "pygments_lexer": "ipython3",
   "version": "3.9.7"
  },
  "latex_envs": {
   "LaTeX_envs_menu_present": true,
   "autoclose": false,
   "autocomplete": true,
   "bibliofile": "biblio.bib",
   "cite_by": "apalike",
   "current_citInitial": 1,
   "eqLabelWithNumbers": true,
   "eqNumInitial": 1,
   "hotkeys": {
    "equation": "Ctrl-E",
    "itemize": "Ctrl-I"
   },
   "labels_anchors": false,
   "latex_user_defs": false,
   "report_style_numbering": false,
   "user_envs_cfg": false
  },
  "toc": {
   "base_numbering": 1,
   "nav_menu": {},
   "number_sections": true,
   "sideBar": false,
   "skip_h1_title": false,
   "title_cell": "Table of Contents",
   "title_sidebar": "Contents",
   "toc_cell": false,
   "toc_position": {
    "height": "1152.67px",
    "left": "41px",
    "top": "110px",
    "width": "253.458px"
   },
   "toc_section_display": true,
   "toc_window_display": false
  },
  "varInspector": {
   "cols": {
    "lenName": 16,
    "lenType": 16,
    "lenVar": 40
   },
   "kernels_config": {
    "python": {
     "delete_cmd_postfix": "",
     "delete_cmd_prefix": "del ",
     "library": "var_list.py",
     "varRefreshCmd": "print(var_dic_list())"
    },
    "r": {
     "delete_cmd_postfix": ") ",
     "delete_cmd_prefix": "rm(",
     "library": "var_list.r",
     "varRefreshCmd": "cat(var_dic_list()) "
    }
   },
   "types_to_exclude": [
    "module",
    "function",
    "builtin_function_or_method",
    "instance",
    "_Feature"
   ],
   "window_display": false
  }
 },
 "nbformat": 4,
 "nbformat_minor": 4
}
